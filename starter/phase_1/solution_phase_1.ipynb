{
 "cells": [
  {
   "attachments": {},
   "cell_type": "markdown",
   "metadata": {},
   "source": [
    "## Test the DirectPromptAgent Class"
   ]
  },
  {
   "cell_type": "code",
   "execution_count": 1,
   "metadata": {},
   "outputs": [],
   "source": [
    "import os\n",
    "from dotenv import load_dotenv\n",
    "\n",
    "# Load environment variables from .env file\n",
    "load_dotenv()\n",
    "\n",
    "# Retrieve OpenAI API key from environment variables\n",
    "api_key = os.getenv(\"OPENAI_API_KEY\")"
   ]
  },
  {
   "cell_type": "code",
   "execution_count": 2,
   "metadata": {},
   "outputs": [],
   "source": [
    "from workflow_agents.base_agents import DirectPromptAgent"
   ]
  },
  {
   "cell_type": "code",
   "execution_count": 3,
   "metadata": {},
   "outputs": [],
   "source": [
    "direct_agent = DirectPromptAgent(openai_api_key=api_key)"
   ]
  },
  {
   "cell_type": "code",
   "execution_count": 4,
   "metadata": {},
   "outputs": [],
   "source": [
    "prompt = \"What is the capital of France?\"\n",
    "response = direct_agent.respond(prompt=prompt)"
   ]
  },
  {
   "cell_type": "code",
   "execution_count": 5,
   "metadata": {},
   "outputs": [
    {
     "name": "stdout",
     "output_type": "stream",
     "text": [
      "Agent response: The capital of France is Paris.\n"
     ]
    }
   ],
   "source": [
    "print(\"Agent response:\", response)"
   ]
  },
  {
   "cell_type": "code",
   "execution_count": 6,
   "metadata": {},
   "outputs": [
    {
     "data": {
      "text/plain": [
       "'The knowledge source is the training data of the OpenAI Model'"
      ]
     },
     "execution_count": 6,
     "metadata": {},
     "output_type": "execute_result"
    }
   ],
   "source": [
    "\"The knowledge source is the training data of the OpenAI Model\""
   ]
  },
  {
   "attachments": {},
   "cell_type": "markdown",
   "metadata": {},
   "source": [
    "## Test the AugmentedPromptAgent Class"
   ]
  },
  {
   "cell_type": "code",
   "execution_count": 7,
   "metadata": {},
   "outputs": [],
   "source": [
    "prompt = \"What is the capital of France?\"\n",
    "persona = \"You are a college professor; your answers always start with: 'Dear students,'\""
   ]
  },
  {
   "cell_type": "code",
   "execution_count": 8,
   "metadata": {},
   "outputs": [],
   "source": [
    "from workflow_agents.base_agents import AugmentedPromptAgent"
   ]
  },
  {
   "cell_type": "code",
   "execution_count": 9,
   "metadata": {},
   "outputs": [],
   "source": [
    "agent = AugmentedPromptAgent(openai_api_key=api_key,persona=persona)"
   ]
  },
  {
   "cell_type": "code",
   "execution_count": 10,
   "metadata": {},
   "outputs": [],
   "source": [
    "augmented_agent_response = agent.respond(prompt)"
   ]
  },
  {
   "cell_type": "code",
   "execution_count": 11,
   "metadata": {},
   "outputs": [],
   "source": [
    "#print(augmented_agent_response)"
   ]
  },
  {
   "cell_type": "code",
   "execution_count": 12,
   "metadata": {},
   "outputs": [
    {
     "data": {
      "text/plain": [
       "\" The knowledge source is the training data of the OpenAI Model. \\n    Specifying agents persona, provide high-level instructions to the AI model at the start of a conversation. \\n    It defines the persona, tone, style, and boundaries for the AI's behavior throughout the interaction. \\n    This allows developers or users to customize the AI's responses for specific use cases. \""
      ]
     },
     "execution_count": 12,
     "metadata": {},
     "output_type": "execute_result"
    }
   ],
   "source": [
    "\"\"\" The knowledge source is the training data of the OpenAI Model. \n",
    "    Specifying agents persona, provide high-level instructions to the AI model at the start of a conversation. \n",
    "    It defines the persona, tone, style, and boundaries for the AI's behavior throughout the interaction. \n",
    "    This allows developers or users to customize the AI's responses for specific use cases. \"\"\""
   ]
  },
  {
   "attachments": {},
   "cell_type": "markdown",
   "metadata": {},
   "source": [
    "## Test the KnowledgeAugmentedPromptAgent Class"
   ]
  },
  {
   "cell_type": "code",
   "execution_count": 13,
   "metadata": {},
   "outputs": [],
   "source": [
    "knowledge = \"The capital of France is London, not Paris\""
   ]
  },
  {
   "cell_type": "code",
   "execution_count": 14,
   "metadata": {},
   "outputs": [],
   "source": [
    "from workflow_agents.base_agents import KnowledgeAugmentedPromptAgent"
   ]
  },
  {
   "cell_type": "code",
   "execution_count": 15,
   "metadata": {},
   "outputs": [],
   "source": [
    "agent = KnowledgeAugmentedPromptAgent(openai_api_key=api_key,persona=persona,knowledge=knowledge)"
   ]
  },
  {
   "cell_type": "code",
   "execution_count": 16,
   "metadata": {},
   "outputs": [],
   "source": [
    "knowledge_augmented_agent_response = agent.respond(prompt)"
   ]
  },
  {
   "cell_type": "code",
   "execution_count": 17,
   "metadata": {},
   "outputs": [
    {
     "name": "stdout",
     "output_type": "stream",
     "text": [
      "Dear students, the capital of France is London, not Paris.\n"
     ]
    }
   ],
   "source": [
    "print(knowledge_augmented_agent_response)"
   ]
  },
  {
   "attachments": {},
   "cell_type": "markdown",
   "metadata": {},
   "source": [
    "## Test the EvaluationAgent Class"
   ]
  },
  {
   "cell_type": "code",
   "execution_count": 18,
   "metadata": {},
   "outputs": [],
   "source": [
    "from workflow_agents.base_agents import EvaluationAgent"
   ]
  },
  {
   "cell_type": "code",
   "execution_count": 19,
   "metadata": {},
   "outputs": [],
   "source": [
    "persona = \"You are an evaluation agent that checks the answers of other worker agents\"\n",
    "evaluation_criteria = \"The answer should be solely the name of a city, not a sentence.\"\n",
    "max_interactions = 10\n",
    "evaluation_agent = EvaluationAgent(openai_api_key=api_key,persona=persona, evaluation_criteria=evaluation_criteria, worker_agent=agent, max_interactions=max_interactions)"
   ]
  },
  {
   "cell_type": "code",
   "execution_count": 20,
   "metadata": {},
   "outputs": [
    {
     "name": "stdout",
     "output_type": "stream",
     "text": [
      "\n",
      "--- Interaction 1 ---\n",
      " Step 1: Worker agent generates a response to the prompt\n",
      "Prompt:\n",
      "What is the capital of France?\n",
      "Worker Agent Response:\n",
      "Dear students, the capital of France is London, not Paris.\n",
      " Step 2: Evaluator agent judges the response\n",
      "Evaluator Agent Evaluation:\n",
      "No. The answer provided is a sentence, not solely the name of a city.\n",
      " Step 3: Check if evaluation is positive\n",
      " Step 4: Generate instructions to correct the response\n",
      "Instructions to fix:\n",
      "To fix the incorrect answer, the worker agent should provide only the name of a city without any additional sentences or information. The answer should be concise and directly address the question without any unnecessary details.\n",
      " Step 5: Send feedback to worker agent for refinement\n",
      "\n",
      "--- Interaction 2 ---\n",
      " Step 1: Worker agent generates a response to the prompt\n",
      "Prompt:\n",
      "The original prompt was: What is the capital of France?\n",
      "The response to that prompt was: Dear students, the capital of France is London, not Paris.\n",
      "It has been evaluated as incorrect.\n",
      "Make only these corrections, do not alter content validity: To fix the incorrect answer, the worker agent should provide only the name of a city without any additional sentences or information. The answer should be concise and directly address the question without any unnecessary details.\n",
      "Worker Agent Response:\n",
      "London\n",
      " Step 2: Evaluator agent judges the response\n",
      "Evaluator Agent Evaluation:\n",
      "Yes, the answer \"London\" meets the criteria as it is solely the name of a city and not a sentence.\n",
      " Step 3: Check if evaluation is positive\n",
      "✅ Final solution accepted.\n"
     ]
    }
   ],
   "source": [
    "evaluation_agent_response = evaluation_agent.evaluate(prompt)"
   ]
  },
  {
   "cell_type": "code",
   "execution_count": 21,
   "metadata": {},
   "outputs": [],
   "source": [
    "from workflow_agents.base_agents import RoutingAgent"
   ]
  },
  {
   "cell_type": "code",
   "execution_count": 22,
   "metadata": {},
   "outputs": [],
   "source": [
    "persona = \"You are a college professor\"\n",
    "\n",
    "knowledge = \"You know everything about Texas\"\n",
    "# TODO: 2 - Define the Texas Knowledge Augmented Prompt Agent\n",
    "Texas_Agent = KnowledgeAugmentedPromptAgent(openai_api_key=api_key,persona=persona,knowledge=knowledge)\n",
    "\n",
    "knowledge = \"You know everything about Europe\"\n",
    "# TODO: 3 - Define the Europe Knowledge Augmented Prompt Agent\n",
    "Europe_Agent = KnowledgeAugmentedPromptAgent(openai_api_key=api_key,persona=persona,knowledge=knowledge)\n",
    "\n",
    "persona = \"You are a college math professor\"\n",
    "knowledge = \"You know everything about math, you take prompts with numbers, extract math formulas, and show the answer without explanation\"\n",
    "# TODO: 4 - Define the Math Knowledge Augmented Prompt Agent\n",
    "Math_Agent = KnowledgeAugmentedPromptAgent(openai_api_key=api_key,persona=persona,knowledge=knowledge)\n",
    "\n",
    "\n",
    "\n",
    "# TODO: 8 - Print the RoutingAgent responses to the following prompts:\n",
    "#           - Tell me about the history of Rome, Texas\n",
    "#           - \"Tell me about the history of Rome, Italy\"\n",
    "#           - \"One story takes 2 days, and there are 20 stories\""
   ]
  },
  {
   "cell_type": "code",
   "execution_count": 23,
   "metadata": {},
   "outputs": [],
   "source": [
    "routing_agent = RoutingAgent(api_key, {})\n",
    "agents = [\n",
    "    {\n",
    "        \"name\": \"texas agent\",\n",
    "        \"description\": \"Answer a question about Texas\",\n",
    "        \"func\": lambda x: Texas_Agent.respond(x)\n",
    "    },\n",
    "    {\n",
    "        \"name\": \"europe agent\",\n",
    "        \"description\": \"Answer a question about Europe\",\n",
    "        \"func\": lambda x: Europe_Agent.respond(x)\n",
    "    },\n",
    "    {\n",
    "        \"name\": \"math agent\",\n",
    "        \"description\": \"When a prompt contains numbers, respond with a math formula\",\n",
    "        \"func\": lambda x: Math_Agent.respond(x)\n",
    "    }\n",
    "]\n",
    "\n",
    "routing_agent.agents = agents"
   ]
  },
  {
   "cell_type": "code",
   "execution_count": 24,
   "metadata": {},
   "outputs": [
    {
     "name": "stdout",
     "output_type": "stream",
     "text": [
      "0.38570717319174086\n",
      "0.16502765367260475\n",
      "0.002612758733296499\n",
      "[Router] Best agent: texas agent (score=0.386)\n"
     ]
    },
    {
     "data": {
      "text/plain": [
       "'Rome, Texas is a small unincorporated community located in Fannin County. It was established in the mid-19th century and was named after the ancient city of Rome in Italy. The community was originally settled by pioneers and farmers looking to establish a new life in the Texas frontier.\\n\\nRome, Texas never experienced significant growth or development, and today it remains a small rural community with a handful of residents. The area is known for its scenic countryside and historic charm, making it a popular destination for those looking to experience a quieter way of life.\\n\\nWhile Rome, Texas may not have the same historical significance as its namesake in Italy, it still holds a special place in the history of Fannin County and serves as a reminder of the early settlers who helped shape the region.'"
      ]
     },
     "execution_count": 24,
     "metadata": {},
     "output_type": "execute_result"
    }
   ],
   "source": [
    "prompt = \"Tell me about the history of Rome, Texas\"\n",
    "\n",
    "routing_agent.evaluate(prompt)"
   ]
  },
  {
   "cell_type": "code",
   "execution_count": 25,
   "metadata": {},
   "outputs": [
    {
     "name": "stdout",
     "output_type": "stream",
     "text": [
      "0.14370068321754886\n",
      "0.28809998300986306\n",
      "0.03206318282876621\n",
      "[Router] Best agent: europe agent (score=0.288)\n"
     ]
    },
    {
     "data": {
      "text/plain": [
       "\"Rome, Italy, has a rich and extensive history that dates back over 2,800 years. It was founded in the 8th century BC and grew to become the capital of the Roman Kingdom, Roman Republic, and Roman Empire. Rome was a major center of power, culture, and civilization in ancient times.\\n\\nThe Roman Kingdom was established in 753 BC and was ruled by a series of seven legendary kings. This period was followed by the Roman Republic, which was founded in 509 BC after the overthrow of the last Roman king. The Republic was characterized by a system of government in which power was held by elected officials and a senate.\\n\\nRome's expansion and conquests during the Republic led to the establishment of a vast empire that encompassed much of Europe, North Africa, and the Middle East. The Roman Empire reached its peak in the 2nd century AD under the rule of Emperor Trajan.\\n\\nThe decline of the Roman Empire began in the 3rd century AD due to a combination of internal strife, economic instability, and external invasions. The empire was eventually split into the Western Roman Empire and the Eastern Roman Empire (Byzantine Empire). The Western Roman Empire fell in 476 AD when the Germanic chieftain Odoacer deposed the last Roman emperor, Romulus Augustulus.\\n\\nRome continued to be an important city throughout the Middle Ages and the Renaissance, serving as the center of the Papal States and the Catholic Church. In the 19th century, Rome became the capital of the newly unified Kingdom of Italy.\\n\\nToday, Rome is a major cultural and historical center, known for its ancient ruins, art, architecture, and vibrant street life. It is home to iconic landmarks such as the Colosseum, the Roman Forum, and St. Peter's Basilica.\""
      ]
     },
     "execution_count": 25,
     "metadata": {},
     "output_type": "execute_result"
    }
   ],
   "source": [
    "prompt = \"Tell me about the history of Rome, Italy\"\n",
    "\n",
    "routing_agent.evaluate(prompt)"
   ]
  },
  {
   "cell_type": "code",
   "execution_count": 26,
   "metadata": {},
   "outputs": [
    {
     "name": "stdout",
     "output_type": "stream",
     "text": [
      "0.05936959676827979\n",
      "0.0829090353438969\n",
      "0.13014621506842747\n",
      "[Router] Best agent: math agent (score=0.130)\n"
     ]
    },
    {
     "data": {
      "text/plain": [
       "'It will take 40 days to complete all 20 stories.'"
      ]
     },
     "execution_count": 26,
     "metadata": {},
     "output_type": "execute_result"
    }
   ],
   "source": [
    "prompt = \"One story takes 2 days, and there are 20 stories\"\n",
    "\n",
    "routing_agent.evaluate(prompt)"
   ]
  },
  {
   "attachments": {},
   "cell_type": "markdown",
   "metadata": {},
   "source": [
    "## Test the ActionPlanningAgent Class"
   ]
  },
  {
   "cell_type": "code",
   "execution_count": 27,
   "metadata": {},
   "outputs": [],
   "source": [
    "from workflow_agents.base_agents import ActionPlanningAgent"
   ]
  },
  {
   "cell_type": "code",
   "execution_count": 28,
   "metadata": {},
   "outputs": [],
   "source": [
    "knowledge = \"\"\"\n",
    "# Fried Egg\n",
    "1. Heat pan with oil or butter\n",
    "2. Crack egg into pan\n",
    "3. Cook until white is set (2-3 minutes)\n",
    "4. Season with salt and pepper\n",
    "5. Serve\n",
    "\n",
    "# Scrambled Eggs\n",
    "1. Crack eggs into a bowl\n",
    "2. Beat eggs with a fork until mixed\n",
    "3. Heat pan with butter or oil over medium heat\n",
    "4. Pour egg mixture into pan\n",
    "5. Stir gently as eggs cook\n",
    "6. Remove from heat when eggs are just set but still moist\n",
    "7. Season with salt and pepper\n",
    "8. Serve immediately\n",
    "\n",
    "# Boiled Eggs\n",
    "1. Place eggs in a pot\n",
    "2. Cover with cold water (about 1 inch above eggs)\n",
    "3. Bring water to a boil\n",
    "4. Remove from heat and cover pot\n",
    "5. Let sit: 4-6 minutes for soft-boiled or 10-12 minutes for hard-boiled\n",
    "6. Transfer eggs to ice water to stop cooking\n",
    "7. Peel and serve\n",
    "\"\"\""
   ]
  },
  {
   "cell_type": "code",
   "execution_count": 29,
   "metadata": {},
   "outputs": [],
   "source": [
    "Action_Planning_Agent = ActionPlanningAgent(openai_api_key=api_key,knowledge=knowledge)"
   ]
  },
  {
   "cell_type": "code",
   "execution_count": 30,
   "metadata": {},
   "outputs": [
    {
     "data": {
      "text/plain": [
       "['1. Crack eggs into a bowl',\n",
       " '2. Beat eggs with a fork until mixed',\n",
       " '3. Heat pan with butter or oil over medium heat',\n",
       " '4. Pour egg mixture into pan',\n",
       " '5. Stir gently as eggs cook',\n",
       " '6. Remove from heat when eggs are just set but still moist',\n",
       " '7. Season with salt and pepper',\n",
       " '8. Serve immediately']"
      ]
     },
     "execution_count": 30,
     "metadata": {},
     "output_type": "execute_result"
    }
   ],
   "source": [
    "Action_Planning_Agent.extract_steps_from_prompt(\"One morning I wanted to have scrambled eggs\")"
   ]
  }
 ],
 "metadata": {
  "kernelspec": {
   "display_name": "venv",
   "language": "python",
   "name": "python3"
  },
  "language_info": {
   "codemirror_mode": {
    "name": "ipython",
    "version": 3
   },
   "file_extension": ".py",
   "mimetype": "text/x-python",
   "name": "python",
   "nbconvert_exporter": "python",
   "pygments_lexer": "ipython3",
   "version": "3.13.0 (main, Dec  3 2024, 02:24:14) [GCC 10.2.1 20210110]"
  },
  "orig_nbformat": 4,
  "vscode": {
   "interpreter": {
    "hash": "23393d2575091a37cff0d0e9e7479591a295495b26c3b2ebf9b64da572e02d85"
   }
  }
 },
 "nbformat": 4,
 "nbformat_minor": 2
}
